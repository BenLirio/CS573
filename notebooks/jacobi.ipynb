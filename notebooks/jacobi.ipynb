{
  "nbformat": 4,
  "nbformat_minor": 0,
  "metadata": {
    "colab": {
      "name": "jacobi.ipynb",
      "provenance": [],
      "authorship_tag": "ABX9TyMZAjSfts7XZchCExBO6O4p",
      "include_colab_link": true
    },
    "kernelspec": {
      "name": "python3",
      "display_name": "Python 3"
    },
    "language_info": {
      "name": "python"
    }
  },
  "cells": [
    {
      "cell_type": "markdown",
      "metadata": {
        "id": "view-in-github",
        "colab_type": "text"
      },
      "source": [
        "<a href=\"https://colab.research.google.com/github/BenLirio/CS573/blob/master/notebooks/jacobi.ipynb\" target=\"_parent\"><img src=\"https://colab.research.google.com/assets/colab-badge.svg\" alt=\"Open In Colab\"/></a>"
      ]
    },
    {
      "cell_type": "code",
      "source": [
        "import sympy"
      ],
      "metadata": {
        "id": "pyxsrmhDnPRM"
      },
      "execution_count": 1,
      "outputs": []
    },
    {
      "cell_type": "code",
      "execution_count": 11,
      "metadata": {
        "colab": {
          "base_uri": "https://localhost:8080/"
        },
        "id": "eKZ79L-gnJVC",
        "outputId": "fdc7541a-c338-4ebe-c044-b5973e14480c"
      },
      "outputs": [
        {
          "output_type": "stream",
          "name": "stdout",
          "text": [
            "1\n",
            "1\n",
            "1\n",
            "1\n",
            "22\n",
            "1\n",
            "22\n",
            "1\n",
            "1\n",
            "22\n",
            "22\n",
            "1\n",
            "1\n",
            "22\n",
            "22\n",
            "1\n",
            "22\n",
            "1\n",
            "22\n",
            "22\n",
            "22\n",
            "22\n"
          ]
        }
      ],
      "source": [
        "n = 20\n",
        "p = sympy.nextprime(n)\n",
        "\n",
        "for i in range(1,p):\n",
        "  jacobi = int(i**((p-1)/2)) % p\n",
        "  print(jacobi)"
      ]
    }
  ]
}